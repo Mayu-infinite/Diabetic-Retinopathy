{
  "nbformat": 4,
  "nbformat_minor": 0,
  "metadata": {
    "colab": {
      "provenance": [],
      "gpuType": "T4"
    },
    "kernelspec": {
      "name": "python3",
      "display_name": "Python 3"
    },
    "language_info": {
      "name": "python"
    },
    "accelerator": "GPU"
  },
  "cells": [
    {
      "cell_type": "code",
      "execution_count": 1,
      "metadata": {
        "colab": {
          "base_uri": "https://localhost:8080/"
        },
        "id": "yXKHjUE64nrm",
        "outputId": "a64dbe67-25c7-4cdf-b01c-32da853cc38d"
      },
      "outputs": [
        {
          "output_type": "stream",
          "name": "stdout",
          "text": [
            "/root/.cache/kagglehub/datasets/sovitrath/diabetic-retinopathy-224x224-gaussian-filtered/versions/2\n"
          ]
        }
      ],
      "source": [
        "import kagglehub\n",
        "sovitrath_diabetic_retinopathy_224x224_gaussian_filtered_path = kagglehub.dataset_download('sovitrath/diabetic-retinopathy-224x224-gaussian-filtered')\n",
        "\n",
        "print(sovitrath_diabetic_retinopathy_224x224_gaussian_filtered_path)"
      ]
    },
    {
      "cell_type": "markdown",
      "source": [
        "# Retinal Image Classification"
      ],
      "metadata": {
        "id": "3BVqdVa58uJh"
      }
    },
    {
      "cell_type": "markdown",
      "source": [
        "## Diabetic Retinopathy\n",
        "\n",
        "Identify the signs of diabetic retinopathy in eye images."
      ],
      "metadata": {
        "id": "pwR4fssa8xrC"
      }
    },
    {
      "cell_type": "markdown",
      "source": [
        "### 1. Data Preparation and Image Loaders"
      ],
      "metadata": {
        "id": "eQvJgVRo9EyV"
      }
    },
    {
      "cell_type": "code",
      "source": [
        "import torch\n",
        "from torch.utils.data import DataLoader, Dataset\n",
        "from torchvision import transforms\n",
        "from sklearn.model_selection import train_test_split\n",
        "import pandas as pd\n",
        "import os\n",
        "from PIL import Image\n",
        "\n",
        "df = pd.read_csv(os.path.join(sovitrath_diabetic_retinopathy_224x224_gaussian_filtered_path, 'train.csv'))\n",
        "\n",
        "root_dir = os.path.join(sovitrath_diabetic_retinopathy_224x224_gaussian_filtered_path, 'gaussian_filtered_images', 'gaussian_filtered_images')\n",
        "\n",
        "label_mapping = {\n",
        "    0: \"No_DR\",\n",
        "    1: \"Mild\",\n",
        "    2: \"Moderate\",\n",
        "    3: \"Severe\",\n",
        "    4: \"Proliferate_DR\"\n",
        "}\n",
        "\n",
        "df['label_folder'] = df['diagnosis'].map(label_mapping)\n",
        "\n",
        "train_intermediate, val = train_test_split(df, test_size=0.15, stratify=df['diagnosis'])\n",
        "train, test = train_test_split(train_intermediate, test_size=0.15 / (1 - 0.15), stratify=train_intermediate['diagnosis'])\n",
        "\n",
        "transform = transforms.Compose([\n",
        "    transforms.Resize((224, 224)),\n",
        "    transforms.ToTensor()\n",
        "])\n",
        "\n",
        "class DiabeticRetinopathyDataset(Dataset):\n",
        "    def __init__(self, df, root_dir, transform=None):\n",
        "        self.df = df\n",
        "        self.root_dir = root_dir\n",
        "        self.transform = transform\n",
        "\n",
        "    def __len__(self):\n",
        "        return len(self.df)\n",
        "\n",
        "    def __getitem__(self, idx):\n",
        "        image_id = self.df.iloc[idx, 0] + \".png\"\n",
        "        diagnosis = self.df.iloc[idx, 1]\n",
        "        label_folder = label_mapping[diagnosis]\n",
        "\n",
        "        img_path = os.path.join(self.root_dir, label_folder, image_id)\n",
        "\n",
        "        if not os.path.isfile(img_path):\n",
        "            print(f\"File not found: {img_path}\")\n",
        "            raise FileNotFoundError(f\"File not found: {img_path}\")\n",
        "\n",
        "        image = Image.open(img_path).convert(\"RGB\")\n",
        "\n",
        "        if self.transform:\n",
        "            image = self.transform(image)\n",
        "\n",
        "        return image, diagnosis\n",
        "\n",
        "# Create dataset instances\n",
        "train_dataset = DiabeticRetinopathyDataset(train, root_dir, transform)\n",
        "val_dataset = DiabeticRetinopathyDataset(val, root_dir, transform)\n",
        "test_dataset = DiabeticRetinopathyDataset(test, root_dir, transform)\n",
        "\n",
        "# Function to convert diagnosis labels to binary\n",
        "def convert_labels_to_binary(dataset):\n",
        "    binary_labels = []\n",
        "    for _, diagnosis in dataset:\n",
        "        binary_label = 0 if diagnosis == 0 else 1\n",
        "        binary_labels.append(binary_label)\n",
        "    return binary_labels\n",
        "\n",
        "# Load train, val, and test data\n",
        "train_data = [(img, diagnosis) for img, diagnosis in train_dataset]\n",
        "val_data = [(img, diagnosis) for img, diagnosis in val_dataset]\n",
        "test_data = [(img, diagnosis) for img, diagnosis in test_dataset]\n",
        "\n",
        "# Convert labels to binary\n",
        "train_labels_binary = convert_labels_to_binary(train_data)\n",
        "val_labels_binary = convert_labels_to_binary(val_data)\n",
        "test_labels_binary = convert_labels_to_binary(test_data)\n",
        "\n",
        "# Create DataLoaders using the images and binary labels\n",
        "train_loader = DataLoader([(img, label) for (img, _), label in zip(train_data, train_labels_binary)], batch_size=64, shuffle=True)\n",
        "val_loader = DataLoader([(img, label) for (img, _), label in zip(val_data, val_labels_binary)], batch_size=64, shuffle=False)\n",
        "test_loader = DataLoader([(img, label) for (img, _), label in zip(test_data, test_labels_binary)], batch_size=64, shuffle=False)"
      ],
      "metadata": {
        "id": "U1q6_Lg48gkP"
      },
      "execution_count": 2,
      "outputs": []
    },
    {
      "cell_type": "markdown",
      "source": [
        "### 2. VGGNet and ResNet Architectures"
      ],
      "metadata": {
        "id": "6aCcoRblBpQo"
      }
    },
    {
      "cell_type": "code",
      "source": [
        "import torch\n",
        "import torch.nn as nn\n",
        "import torch.nn.functional as F\n",
        "\n",
        "class CustomCNN(nn.Module):\n",
        "    def __init__(self, dropout_rate):\n",
        "        super(CustomCNN, self).__init__()\n",
        "\n",
        "        self.conv1 = nn.Conv2d(in_channels=3, out_channels=8, kernel_size=(3, 3), padding='valid')  # input_shape=(224,224,3)\n",
        "        self.pool1 = nn.MaxPool2d(kernel_size=(2, 2))\n",
        "        self.bn1 = nn.BatchNorm2d(8)\n",
        "\n",
        "        self.conv2 = nn.Conv2d(in_channels=8, out_channels=16, kernel_size=(3, 3), padding='valid')\n",
        "        self.pool2 = nn.MaxPool2d(kernel_size=(2, 2))\n",
        "        self.bn2 = nn.BatchNorm2d(16)\n",
        "\n",
        "        self.conv3 = nn.Conv2d(in_channels=16, out_channels=32, kernel_size=(4, 4), padding='valid')\n",
        "        self.pool3 = nn.MaxPool2d(kernel_size=(2, 2))\n",
        "        self.bn3 = nn.BatchNorm2d(32)\n",
        "\n",
        "        self.flatten = nn.Flatten()\n",
        "        self.fc1 = nn.Linear(32 * 25 * 25, 32)  # Adjust based on input size after convolutions\n",
        "        self.dropout = nn.Dropout(dropout_rate)\n",
        "        self.fc2 = nn.Linear(32, 2)  # Output for 2 classes\n",
        "\n",
        "    def forward(self, x):\n",
        "        x = self.pool1(self.bn1(F.relu(self.conv1(x))))\n",
        "        x = self.pool2(self.bn2(F.relu(self.conv2(x))))\n",
        "        x = self.pool3(self.bn3(F.relu(self.conv3(x))))\n",
        "\n",
        "        x = self.flatten(x)\n",
        "        x = F.relu(self.fc1(x))\n",
        "        x = self.dropout(x)\n",
        "        x = self.fc2(x)\n",
        "        return x\n",
        "\n",
        "# Usage\n",
        "device = torch.device(\"cuda\" if torch.cuda.is_available() else \"cpu\")\n",
        "model = CustomCNN(dropout_rate=0.15).to(device)"
      ],
      "metadata": {
        "id": "cYL53fPW9Jts"
      },
      "execution_count": 3,
      "outputs": []
    },
    {
      "cell_type": "markdown",
      "source": [
        "### 3. Training and Evaluation with Metrics"
      ],
      "metadata": {
        "id": "FgMkv1IQGP9P"
      }
    },
    {
      "cell_type": "code",
      "source": [
        "from sklearn.metrics import accuracy_score, precision_score, recall_score, f1_score\n",
        "import torch.optim as optim\n",
        "\n",
        "def train_model(model, train_loader, val_loader, num_epochs=10):\n",
        "    criterion = nn.CrossEntropyLoss()\n",
        "    optimizer = optim.Adam(model.parameters(), lr=1e-4)\n",
        "\n",
        "    for epoch in range(num_epochs):\n",
        "        model.train()\n",
        "        for images, labels in train_loader:\n",
        "            images, labels = images.to(device), labels.to(device)\n",
        "            optimizer.zero_grad()\n",
        "            outputs = model(images)\n",
        "            loss = criterion(outputs, labels)\n",
        "            loss.backward()\n",
        "            optimizer.step()\n",
        "\n",
        "        # Validation\n",
        "        model.eval()\n",
        "        val_labels, val_preds = [], []\n",
        "        with torch.no_grad():\n",
        "            for images, labels in val_loader:\n",
        "                images = images.to(device)\n",
        "                outputs = model(images)\n",
        "                _, preds = torch.max(outputs, 1)\n",
        "                val_preds.extend(preds.cpu().numpy())\n",
        "                val_labels.extend(labels.cpu().numpy())\n",
        "\n",
        "        acc = accuracy_score(val_labels, val_preds)\n",
        "        prec = precision_score(val_labels, val_preds, average='weighted')\n",
        "        rec = recall_score(val_labels, val_preds, average='weighted')\n",
        "        f1 = f1_score(val_labels, val_preds, average='weighted')\n",
        "\n",
        "        print(f'Epoch {epoch + 1}/{num_epochs}, Accuracy: {acc:.4f}, Precision: {prec:.4f}, Recall: {rec:.4f}, F1: {f1:.4f}')"
      ],
      "metadata": {
        "id": "uGIPCZTQDdS3"
      },
      "execution_count": 4,
      "outputs": []
    },
    {
      "cell_type": "code",
      "source": [
        "train_model(model, train_loader, val_loader)"
      ],
      "metadata": {
        "colab": {
          "base_uri": "https://localhost:8080/"
        },
        "id": "H5VnApCzYHFW",
        "outputId": "2c8bc735-d1cd-44e6-a3b4-cf6a907a000d"
      },
      "execution_count": 5,
      "outputs": [
        {
          "output_type": "stream",
          "name": "stdout",
          "text": [
            "Epoch 1/10, Accuracy: 0.7036, Precision: 0.8088, Recall: 0.7036, F1: 0.6742\n",
            "Epoch 2/10, Accuracy: 0.9273, Precision: 0.9284, Recall: 0.9273, F1: 0.9273\n",
            "Epoch 3/10, Accuracy: 0.9182, Precision: 0.9252, Recall: 0.9182, F1: 0.9179\n",
            "Epoch 4/10, Accuracy: 0.9400, Precision: 0.9422, Recall: 0.9400, F1: 0.9400\n",
            "Epoch 5/10, Accuracy: 0.9345, Precision: 0.9374, Recall: 0.9345, F1: 0.9345\n",
            "Epoch 6/10, Accuracy: 0.9400, Precision: 0.9414, Recall: 0.9400, F1: 0.9400\n",
            "Epoch 7/10, Accuracy: 0.9400, Precision: 0.9422, Recall: 0.9400, F1: 0.9400\n",
            "Epoch 8/10, Accuracy: 0.9436, Precision: 0.9454, Recall: 0.9436, F1: 0.9436\n",
            "Epoch 9/10, Accuracy: 0.9436, Precision: 0.9450, Recall: 0.9436, F1: 0.9436\n",
            "Epoch 10/10, Accuracy: 0.9400, Precision: 0.9414, Recall: 0.9400, F1: 0.9400\n"
          ]
        }
      ]
    },
    {
      "cell_type": "markdown",
      "source": [
        "### 4. Confusion matrix and Visualization"
      ],
      "metadata": {
        "id": "XI_ZQbguaMVH"
      }
    },
    {
      "cell_type": "code",
      "source": [
        "import matplotlib.pyplot as plt\n",
        "import seaborn as sns\n",
        "from sklearn.metrics import confusion_matrix\n",
        "\n",
        "def plot_confusion_matrix(y_true, y_pred, class_names):\n",
        "    cm = confusion_matrix(y_true, y_pred)\n",
        "    plt.figure(figsize=(8, 6))\n",
        "    sns.heatmap(cm, annot=True, fmt='d', cmap='Blues', xticklabels=class_names, yticklabels=class_names)\n",
        "    plt.ylabel('True label')\n",
        "    plt.xlabel('Predicted label')\n",
        "    plt.title('Confusion Matrix')\n",
        "    plt.show()\n",
        "\n",
        "def visualize_predictions(model, data_loader, class_names, num_images=5):\n",
        "    model.eval()\n",
        "    images, labels = next(iter(data_loader))\n",
        "    images = images.to(device)\n",
        "    with torch.no_grad():\n",
        "        outputs = model(images)\n",
        "        _, preds = torch.max(outputs, 1)\n",
        "\n",
        "    plt.figure(figsize=(15, 6))\n",
        "    for i in range(num_images):\n",
        "        plt.subplot(2, num_images, i + 1)\n",
        "        plt.imshow(images[i].cpu().permute(1, 2, 0))\n",
        "        plt.title(f'Pred: {class_names[preds[i]]}\\nTrue: {class_names[labels[i]]}')\n",
        "        plt.axis('off')\n",
        "    plt.show()"
      ],
      "metadata": {
        "id": "g9GO6sJEZfc8"
      },
      "execution_count": 6,
      "outputs": []
    },
    {
      "cell_type": "markdown",
      "source": [
        "### 5. Hyperparameter tuning"
      ],
      "metadata": {
        "id": "QNtt-Nz4ahi0"
      }
    },
    {
      "cell_type": "code",
      "source": [
        "import numpy as np\n",
        "from sklearn.metrics import accuracy_score\n",
        "from itertools import product\n",
        "\n",
        "learning_rates = [1e-4, 1e-3]\n",
        "batch_sizes = [32, 64]\n",
        "num_epochs_list = [10, 15]\n",
        "dropout_rates = [0.1, 0.2]\n",
        "\n",
        "def train_with_hyperparameters(learning_rate, batch_size, num_epochs, dropout_rate):\n",
        "    model = CustomCNN(dropout_rate).to(device)\n",
        "    train_loader = DataLoader([(img, label) for (img, _), label in zip(train_data, train_labels_binary)],\n",
        "                              batch_size=batch_size, shuffle=True)\n",
        "    val_loader = DataLoader([(img, label) for (img, _), label in zip(val_data, val_labels_binary)],\n",
        "                            batch_size=batch_size, shuffle=False)\n",
        "\n",
        "    criterion = nn.CrossEntropyLoss()\n",
        "    optimizer = optim.Adam(model.parameters(), lr=learning_rate)\n",
        "\n",
        "    for epoch in range(num_epochs):\n",
        "        model.train()\n",
        "        for images, labels in train_loader:\n",
        "            images, labels = images.to(device), labels.to(device)\n",
        "            optimizer.zero_grad()\n",
        "            outputs = model(images)\n",
        "            loss = criterion(outputs, labels)\n",
        "            loss.backward()\n",
        "            optimizer.step()\n",
        "\n",
        "    model.eval()\n",
        "    val_labels, val_preds = [], []\n",
        "    with torch.no_grad():\n",
        "        for images, labels in val_loader:\n",
        "            images = images.to(device)\n",
        "            outputs = model(images)\n",
        "            _, preds = torch.max(outputs, 1)\n",
        "            val_preds.extend(preds.cpu().numpy())\n",
        "            val_labels.extend(labels.cpu().numpy())\n",
        "\n",
        "    acc = accuracy_score(val_labels, val_preds)\n",
        "    return acc\n",
        "\n",
        "best_acc = 0\n",
        "best_params = {}\n",
        "\n",
        "for learning_rate, batch_size, num_epochs, dropout_rate in product(learning_rates, batch_sizes, num_epochs_list, dropout_rates):\n",
        "    print(f'Testing learning_rate={learning_rate}, batch_size={batch_size}, num_epochs={num_epochs}, dropout_rate={dropout_rate}')\n",
        "    acc = train_with_hyperparameters(learning_rate, batch_size, num_epochs, dropout_rate)\n",
        "    print(f'Accuracy: {acc:.4f}')\n",
        "\n",
        "    if acc > best_acc:\n",
        "        best_acc = acc\n",
        "        best_params = {\n",
        "            'learning_rate': learning_rate,\n",
        "            'batch_size': batch_size,\n",
        "            'num_epochs': num_epochs,\n",
        "            'dropout_rate': dropout_rate\n",
        "        }\n",
        "\n",
        "print(f'Best Accuracy: {best_acc:.4f} with parameters: {best_params}')"
      ],
      "metadata": {
        "colab": {
          "base_uri": "https://localhost:8080/"
        },
        "id": "NT01fmCGaZlv",
        "outputId": "5c6b5a9b-881f-4777-e438-a21e356d477c"
      },
      "execution_count": 7,
      "outputs": [
        {
          "output_type": "stream",
          "name": "stdout",
          "text": [
            "Testing learning_rate=0.0001, batch_size=32, num_epochs=10, dropout_rate=0.1\n",
            "Accuracy: 0.9236\n",
            "Testing learning_rate=0.0001, batch_size=32, num_epochs=10, dropout_rate=0.2\n",
            "Accuracy: 0.9473\n",
            "Testing learning_rate=0.0001, batch_size=32, num_epochs=15, dropout_rate=0.1\n",
            "Accuracy: 0.9455\n",
            "Testing learning_rate=0.0001, batch_size=32, num_epochs=15, dropout_rate=0.2\n",
            "Accuracy: 0.9418\n",
            "Testing learning_rate=0.0001, batch_size=64, num_epochs=10, dropout_rate=0.1\n",
            "Accuracy: 0.9509\n",
            "Testing learning_rate=0.0001, batch_size=64, num_epochs=10, dropout_rate=0.2\n",
            "Accuracy: 0.9564\n",
            "Testing learning_rate=0.0001, batch_size=64, num_epochs=15, dropout_rate=0.1\n",
            "Accuracy: 0.9418\n",
            "Testing learning_rate=0.0001, batch_size=64, num_epochs=15, dropout_rate=0.2\n",
            "Accuracy: 0.9418\n",
            "Testing learning_rate=0.001, batch_size=32, num_epochs=10, dropout_rate=0.1\n",
            "Accuracy: 0.7855\n",
            "Testing learning_rate=0.001, batch_size=32, num_epochs=10, dropout_rate=0.2\n",
            "Accuracy: 0.9291\n",
            "Testing learning_rate=0.001, batch_size=32, num_epochs=15, dropout_rate=0.1\n",
            "Accuracy: 0.9436\n",
            "Testing learning_rate=0.001, batch_size=32, num_epochs=15, dropout_rate=0.2\n",
            "Accuracy: 0.9509\n",
            "Testing learning_rate=0.001, batch_size=64, num_epochs=10, dropout_rate=0.1\n",
            "Accuracy: 0.9200\n",
            "Testing learning_rate=0.001, batch_size=64, num_epochs=10, dropout_rate=0.2\n",
            "Accuracy: 0.8764\n",
            "Testing learning_rate=0.001, batch_size=64, num_epochs=15, dropout_rate=0.1\n",
            "Accuracy: 0.9400\n",
            "Testing learning_rate=0.001, batch_size=64, num_epochs=15, dropout_rate=0.2\n",
            "Accuracy: 0.8745\n",
            "Best Accuracy: 0.9564 with parameters: {'learning_rate': 0.0001, 'batch_size': 64, 'num_epochs': 10, 'dropout_rate': 0.2}\n"
          ]
        }
      ]
    },
    {
      "cell_type": "code",
      "source": [
        "def train_final_model(best_params):\n",
        "    model = CustomCNN(best_params['dropout_rate']).to(device)\n",
        "    train_loader = DataLoader([(img, label) for (img, _), label in zip(train_data, train_labels_binary)],\n",
        "                              batch_size=best_params['batch_size'], shuffle=True)\n",
        "    val_loader = DataLoader([(img, label) for (img, _), label in zip(val_data, val_labels_binary)],\n",
        "                            batch_size=best_params['batch_size'], shuffle=False)\n",
        "\n",
        "    criterion = nn.CrossEntropyLoss()\n",
        "    optimizer = optim.Adam(model.parameters(), lr=best_params['learning_rate'])\n",
        "\n",
        "    for epoch in range(best_params['num_epochs']):\n",
        "        model.train()\n",
        "        for images, labels in train_loader:\n",
        "            images, labels = images.to(device), labels.to(device)\n",
        "            optimizer.zero_grad()\n",
        "            outputs = model(images)\n",
        "            loss = criterion(outputs, labels)\n",
        "            loss.backward()\n",
        "            optimizer.step()\n",
        "\n",
        "    model.eval()\n",
        "    val_labels, val_preds = [], []\n",
        "    with torch.no_grad():\n",
        "        for images, labels in val_loader:\n",
        "            images = images.to(device)\n",
        "            outputs = model(images)\n",
        "            _, preds = torch.max(outputs, 1)\n",
        "            val_preds.extend(preds.cpu().numpy())\n",
        "            val_labels.extend(labels.cpu().numpy())\n",
        "\n",
        "    acc = accuracy_score(val_labels, val_preds)\n",
        "    plot_confusion_matrix(val_labels, val_preds, [\"No_DR\", \"DR\"])\n",
        "    print(f'Final Validation Accuracy: {acc:.4f}')\n",
        "\n",
        "    model_path = 'diabetic_retinopathy_model.pth'\n",
        "    torch.save(model.state_dict(), model_path)\n",
        "    print(f'Model saved to {model_path}')\n",
        "\n",
        "train_final_model(best_params)"
      ],
      "metadata": {
        "colab": {
          "base_uri": "https://localhost:8080/",
          "height": 599
        },
        "id": "Clrj0gYPbEZG",
        "outputId": "53697ea5-6bf4-41ef-c5a0-8e95a49b839a"
      },
      "execution_count": 8,
      "outputs": [
        {
          "output_type": "display_data",
          "data": {
            "text/plain": [
              "<Figure size 800x600 with 2 Axes>"
            ],
            "image/png": "[encoded data removed]"
          },
          "metadata": {}
        },
        {
          "output_type": "stream",
          "name": "stdout",
          "text": [
            "Final Validation Accuracy: 0.9491\n",
            "Model saved to diabetic_retinopathy_model.pth\n"
          ]
        }
      ]
    },
    {
      "cell_type": "code",
      "source": [],
      "metadata": {
        "id": "FVgdzMwhhi8w"
      },
      "execution_count": 8,
      "outputs": []
    }
  ]
}